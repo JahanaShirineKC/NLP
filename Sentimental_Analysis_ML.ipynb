{
  "nbformat": 4,
  "nbformat_minor": 0,
  "metadata": {
    "colab": {
      "provenance": [],
      "authorship_tag": "ABX9TyNhy9rzIbsEsjLpDKYoNv6E"
    },
    "kernelspec": {
      "name": "python3",
      "display_name": "Python 3"
    },
    "language_info": {
      "name": "python"
    }
  },
  "cells": [
    {
      "cell_type": "markdown",
      "source": [
        "# **SENTIMENTAL ANALYSIS**"
      ],
      "metadata": {
        "id": "M03pjJH0B8H7"
      }
    },
    {
      "cell_type": "code",
      "execution_count": 109,
      "metadata": {
        "id": "nU2vV6NO_7tP"
      },
      "outputs": [],
      "source": [
        "import pandas as pd\n",
        "import numpy as np\n",
        "from sklearn.model_selection import train_test_split\n",
        "from sklearn.feature_extraction.text import CountVectorizer, TfidfTransformer\n",
        "from sklearn.linear_model import LogisticRegression\n",
        "from sklearn.naive_bayes import MultinomialNB\n",
        "from sklearn.metrics import accuracy_score, classification_report\n"
      ]
    },
    {
      "cell_type": "code",
      "source": [
        "\n",
        "data = pd.read_csv('sentiment_reviews.csv')\n",
        "df = pd.DataFrame(data)\n"
      ],
      "metadata": {
        "id": "91Jo6uJHCR0u"
      },
      "execution_count": 110,
      "outputs": []
    },
    {
      "cell_type": "code",
      "source": [
        "import re\n",
        "from nltk.corpus import stopwords\n",
        "from nltk.tokenize import word_tokenize\n",
        "\n",
        "# Optional: Download stopwords and tokenizer\n",
        "import nltk\n",
        "nltk.download('stopwords')\n",
        "nltk.download('punkt_tab')\n",
        "\n",
        "def preprocess_text(text):\n",
        "    text = re.sub(r'[^\\w\\s]', '', text)  # Remove punctuation\n",
        "    text = text.lower()                 # Convert to lowercase\n",
        "    tokens = word_tokenize(text)        # Tokenize text\n",
        "    tokens = [word for word in tokens if word not in stopwords.words('english')]\n",
        "    return ' '.join(tokens)\n",
        "\n",
        "df['cleaned_review'] = df['review'].apply(preprocess_text)\n"
      ],
      "metadata": {
        "colab": {
          "base_uri": "https://localhost:8080/"
        },
        "id": "rBPcxCHNCUa_",
        "outputId": "fc72bf0c-ac67-48a3-8161-9d40340e259f"
      },
      "execution_count": 111,
      "outputs": [
        {
          "output_type": "stream",
          "name": "stderr",
          "text": [
            "[nltk_data] Downloading package stopwords to /root/nltk_data...\n",
            "[nltk_data]   Package stopwords is already up-to-date!\n",
            "[nltk_data] Downloading package punkt_tab to /root/nltk_data...\n",
            "[nltk_data]   Package punkt_tab is already up-to-date!\n"
          ]
        }
      ]
    },
    {
      "cell_type": "code",
      "source": [
        "vectorizer = CountVectorizer()\n",
        "X = vectorizer.fit_transform(df['cleaned_review'])\n",
        "tfidf_transformer = TfidfTransformer()\n",
        "X = tfidf_transformer.fit_transform(X)\n",
        "y = df['sentiment']"
      ],
      "metadata": {
        "id": "0Sr7casPCVNA"
      },
      "execution_count": 112,
      "outputs": []
    },
    {
      "cell_type": "code",
      "source": [
        "X_train, X_test, y_train, y_test = train_test_split(X, y, test_size=0.3, random_state=42)\n"
      ],
      "metadata": {
        "id": "k91zCqcOCXWB"
      },
      "execution_count": 113,
      "outputs": []
    },
    {
      "cell_type": "markdown",
      "source": [
        "Logistic Regression"
      ],
      "metadata": {
        "id": "P_hSTUUoN0cv"
      }
    },
    {
      "cell_type": "code",
      "source": [
        "logistic_model = LogisticRegression()\n",
        "logistic_model.fit(X_train, y_train)\n",
        "y_pred_logistic = logistic_model.predict(X_test)\n",
        "accuracy_logistic = accuracy_score(y_test,y_pred_logistic)\n",
        "print(\"Logistic Regression Accuracy:\",accuracy_logistic )\n",
        "print(\"Classification Report:\\n\", classification_report(y_test, y_pred_logistic))\n"
      ],
      "metadata": {
        "colab": {
          "base_uri": "https://localhost:8080/"
        },
        "id": "CtoOjQYACZW9",
        "outputId": "7a6c6871-d659-43f5-c0c0-6313f317705d"
      },
      "execution_count": 114,
      "outputs": [
        {
          "output_type": "stream",
          "name": "stdout",
          "text": [
            "Logistic Regression Accuracy: 0.7857142857142857\n",
            "Classification Report:\n",
            "               precision    recall  f1-score   support\n",
            "\n",
            "           0       0.84      0.55      0.67        38\n",
            "           1       0.77      0.93      0.84        60\n",
            "\n",
            "    accuracy                           0.79        98\n",
            "   macro avg       0.80      0.74      0.75        98\n",
            "weighted avg       0.80      0.79      0.77        98\n",
            "\n"
          ]
        }
      ]
    },
    {
      "cell_type": "markdown",
      "source": [
        "Naive Bayes"
      ],
      "metadata": {
        "id": "t8rOiWH5N3_2"
      }
    },
    {
      "cell_type": "code",
      "source": [
        "nb_model = MultinomialNB()\n",
        "nb_model.fit(X_train, y_train)\n",
        "y_pred_nb = nb_model.predict(X_test)\n",
        "accuracy_naive_bayes = accuracy_score(y_test, y_pred_nb)\n",
        "print(\"Naive Bayes Accuracy:\",accuracy_naive_bayes )\n",
        "print(\"Classification Report:\\n\", classification_report(y_test, y_pred_nb))\n"
      ],
      "metadata": {
        "colab": {
          "base_uri": "https://localhost:8080/"
        },
        "id": "7R6OT1QECbfU",
        "outputId": "8742da03-c7d6-49fe-bd5c-bcb8b4bd1888"
      },
      "execution_count": 115,
      "outputs": [
        {
          "output_type": "stream",
          "name": "stdout",
          "text": [
            "Naive Bayes Accuracy: 0.8061224489795918\n",
            "Classification Report:\n",
            "               precision    recall  f1-score   support\n",
            "\n",
            "           0       0.74      0.76      0.75        38\n",
            "           1       0.85      0.83      0.84        60\n",
            "\n",
            "    accuracy                           0.81        98\n",
            "   macro avg       0.80      0.80      0.80        98\n",
            "weighted avg       0.81      0.81      0.81        98\n",
            "\n"
          ]
        }
      ]
    },
    {
      "cell_type": "code",
      "source": [
        "test_reviews = [\"I hated the experience, absolutely awful!\", \"Fantastic product, will recommend to everyone.\"]\n",
        "test_reviews_cleaned = [preprocess_text(review) for review in test_reviews]\n",
        "test_features = vectorizer.transform(test_reviews_cleaned)\n",
        "\n",
        "# Predict using Logistic Regression\n",
        "print(\"Logistic Regression Predictions:\", logistic_model.predict(test_features))\n",
        "\n",
        "# Predict using Naive Bayes\n",
        "print(\"Naive Bayes Predictions:\", nb_model.predict(test_features))\n"
      ],
      "metadata": {
        "colab": {
          "base_uri": "https://localhost:8080/"
        },
        "id": "npRz8Sl3C-Ll",
        "outputId": "d31ca7f7-fcde-46ae-cbbf-13444ab1cd41"
      },
      "execution_count": 116,
      "outputs": [
        {
          "output_type": "stream",
          "name": "stdout",
          "text": [
            "Logistic Regression Predictions: [0 1]\n",
            "Naive Bayes Predictions: [0 1]\n"
          ]
        }
      ]
    },
    {
      "cell_type": "code",
      "source": [
        "import matplotlib.pyplot as plt\n",
        "plt.figure(figsize=(4,4))\n",
        "plt.bar(['Naive Bayes', 'Logistic Regression'], [accuracy_naive_bayes, accuracy_logistic], color=['skyblue', 'pink'] , width = 0.8)\n",
        "plt.xlabel('Classifiers')\n",
        "plt.ylabel('Accuracy')\n",
        "plt.title('Accuracy Comparison between Naive Bayes and Logistic Regression')\n",
        "plt.show()"
      ],
      "metadata": {
        "colab": {
          "base_uri": "https://localhost:8080/",
          "height": 410
        },
        "id": "02iAzxg4N7mY",
        "outputId": "41d70e51-78bb-4b6a-ef65-9e4d5be01b52"
      },
      "execution_count": 130,
      "outputs": [
        {
          "output_type": "display_data",
          "data": {
            "text/plain": [
              "<Figure size 400x400 with 1 Axes>"
            ],
            "image/png": "[encoded data removed]"
          },
          "metadata": {}
        }
      ]
    }
  ]
}